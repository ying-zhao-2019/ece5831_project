{
 "cells": [
  {
   "cell_type": "code",
   "execution_count": 1,
   "metadata": {
    "colab": {
     "base_uri": "https://localhost:8080/",
     "height": 72
    },
    "colab_type": "code",
    "id": "FI8RQvZYFtUD",
    "outputId": "de93a28c-8d0e-49c3-e28e-7188655a63d7"
   },
   "outputs": [],
   "source": [
    "\n",
    "import numpy as np\n",
    "import matplotlib.pyplot as plt\n",
    "import pandas as pd\n",
    "import seaborn as sns\n"
   ]
  },
  {
   "cell_type": "code",
   "execution_count": 4,
   "metadata": {},
   "outputs": [],
   "source": [
    "test =  pd.read_csv('C:\\\\Users\\\\Ing\\\\Desktop\\\\project2.csv')\n",
    "train = pd.read_csv('C:\\\\Users\\\\Ing\\\\Desktop\\\\project1.csv')"
   ]
  },
  {
   "cell_type": "code",
   "execution_count": 33,
   "metadata": {
    "colab": {
     "base_uri": "https://localhost:8080/",
     "height": 498
    },
    "colab_type": "code",
    "id": "GvyDfRkT2_nK",
    "outputId": "cc92b5da-1a9f-4b21-f8f2-02491a581f16"
   },
   "outputs": [
    {
     "data": {
      "text/html": [
       "<div>\n",
       "<style scoped>\n",
       "    .dataframe tbody tr th:only-of-type {\n",
       "        vertical-align: middle;\n",
       "    }\n",
       "\n",
       "    .dataframe tbody tr th {\n",
       "        vertical-align: top;\n",
       "    }\n",
       "\n",
       "    .dataframe thead th {\n",
       "        text-align: right;\n",
       "    }\n",
       "</style>\n",
       "<table border=\"1\" class=\"dataframe\">\n",
       "  <thead>\n",
       "    <tr style=\"text-align: right;\">\n",
       "      <th></th>\n",
       "      <th>PassengerId</th>\n",
       "      <th>Survived</th>\n",
       "      <th>Pclass</th>\n",
       "      <th>Name</th>\n",
       "      <th>Sex</th>\n",
       "      <th>Age</th>\n",
       "      <th>SibSp</th>\n",
       "      <th>Parch</th>\n",
       "      <th>Ticket</th>\n",
       "      <th>Fare</th>\n",
       "      <th>Cabin</th>\n",
       "      <th>Embarked</th>\n",
       "    </tr>\n",
       "  </thead>\n",
       "  <tbody>\n",
       "    <tr>\n",
       "      <th>0</th>\n",
       "      <td>892</td>\n",
       "      <td>0</td>\n",
       "      <td>3</td>\n",
       "      <td>Kelly, Mr. James</td>\n",
       "      <td>male</td>\n",
       "      <td>34.5</td>\n",
       "      <td>0</td>\n",
       "      <td>0</td>\n",
       "      <td>330911</td>\n",
       "      <td>7.8292</td>\n",
       "      <td>NaN</td>\n",
       "      <td>Q</td>\n",
       "    </tr>\n",
       "    <tr>\n",
       "      <th>1</th>\n",
       "      <td>893</td>\n",
       "      <td>1</td>\n",
       "      <td>3</td>\n",
       "      <td>Wilkes, Mrs. James (Ellen Needs)</td>\n",
       "      <td>female</td>\n",
       "      <td>47.0</td>\n",
       "      <td>1</td>\n",
       "      <td>0</td>\n",
       "      <td>363272</td>\n",
       "      <td>7.0000</td>\n",
       "      <td>NaN</td>\n",
       "      <td>S</td>\n",
       "    </tr>\n",
       "    <tr>\n",
       "      <th>2</th>\n",
       "      <td>894</td>\n",
       "      <td>0</td>\n",
       "      <td>2</td>\n",
       "      <td>Myles, Mr. Thomas Francis</td>\n",
       "      <td>male</td>\n",
       "      <td>62.0</td>\n",
       "      <td>0</td>\n",
       "      <td>0</td>\n",
       "      <td>240276</td>\n",
       "      <td>9.6875</td>\n",
       "      <td>NaN</td>\n",
       "      <td>Q</td>\n",
       "    </tr>\n",
       "    <tr>\n",
       "      <th>3</th>\n",
       "      <td>895</td>\n",
       "      <td>0</td>\n",
       "      <td>3</td>\n",
       "      <td>Wirz, Mr. Albert</td>\n",
       "      <td>male</td>\n",
       "      <td>27.0</td>\n",
       "      <td>0</td>\n",
       "      <td>0</td>\n",
       "      <td>315154</td>\n",
       "      <td>8.6625</td>\n",
       "      <td>NaN</td>\n",
       "      <td>S</td>\n",
       "    </tr>\n",
       "    <tr>\n",
       "      <th>4</th>\n",
       "      <td>896</td>\n",
       "      <td>1</td>\n",
       "      <td>3</td>\n",
       "      <td>Hirvonen, Mrs. Alexander (Helga E Lindqvist)</td>\n",
       "      <td>female</td>\n",
       "      <td>22.0</td>\n",
       "      <td>1</td>\n",
       "      <td>1</td>\n",
       "      <td>3101298</td>\n",
       "      <td>12.2875</td>\n",
       "      <td>NaN</td>\n",
       "      <td>S</td>\n",
       "    </tr>\n",
       "  </tbody>\n",
       "</table>\n",
       "</div>"
      ],
      "text/plain": [
       "   PassengerId  Survived  Pclass  \\\n",
       "0          892         0       3   \n",
       "1          893         1       3   \n",
       "2          894         0       2   \n",
       "3          895         0       3   \n",
       "4          896         1       3   \n",
       "\n",
       "                                           Name     Sex   Age  SibSp  Parch  \\\n",
       "0                              Kelly, Mr. James    male  34.5      0      0   \n",
       "1              Wilkes, Mrs. James (Ellen Needs)  female  47.0      1      0   \n",
       "2                     Myles, Mr. Thomas Francis    male  62.0      0      0   \n",
       "3                              Wirz, Mr. Albert    male  27.0      0      0   \n",
       "4  Hirvonen, Mrs. Alexander (Helga E Lindqvist)  female  22.0      1      1   \n",
       "\n",
       "    Ticket     Fare Cabin Embarked  \n",
       "0   330911   7.8292   NaN        Q  \n",
       "1   363272   7.0000   NaN        S  \n",
       "2   240276   9.6875   NaN        Q  \n",
       "3   315154   8.6625   NaN        S  \n",
       "4  3101298  12.2875   NaN        S  "
      ]
     },
     "execution_count": 33,
     "metadata": {},
     "output_type": "execute_result"
    }
   ],
   "source": [
    "# data train head 5\n",
    "train.head()"
   ]
  },
  {
   "cell_type": "code",
   "execution_count": 34,
   "metadata": {},
   "outputs": [
    {
     "data": {
      "text/html": [
       "<div>\n",
       "<style scoped>\n",
       "    .dataframe tbody tr th:only-of-type {\n",
       "        vertical-align: middle;\n",
       "    }\n",
       "\n",
       "    .dataframe tbody tr th {\n",
       "        vertical-align: top;\n",
       "    }\n",
       "\n",
       "    .dataframe thead th {\n",
       "        text-align: right;\n",
       "    }\n",
       "</style>\n",
       "<table border=\"1\" class=\"dataframe\">\n",
       "  <thead>\n",
       "    <tr style=\"text-align: right;\">\n",
       "      <th></th>\n",
       "      <th>PassengerId</th>\n",
       "      <th>Survived</th>\n",
       "      <th>Pclass</th>\n",
       "      <th>Age</th>\n",
       "      <th>SibSp</th>\n",
       "      <th>Parch</th>\n",
       "      <th>Fare</th>\n",
       "    </tr>\n",
       "  </thead>\n",
       "  <tbody>\n",
       "    <tr>\n",
       "      <th>count</th>\n",
       "      <td>418.000000</td>\n",
       "      <td>418.000000</td>\n",
       "      <td>418.000000</td>\n",
       "      <td>332.000000</td>\n",
       "      <td>418.000000</td>\n",
       "      <td>418.000000</td>\n",
       "      <td>417.000000</td>\n",
       "    </tr>\n",
       "    <tr>\n",
       "      <th>mean</th>\n",
       "      <td>1100.500000</td>\n",
       "      <td>0.363636</td>\n",
       "      <td>2.265550</td>\n",
       "      <td>30.272590</td>\n",
       "      <td>0.447368</td>\n",
       "      <td>0.392344</td>\n",
       "      <td>35.627188</td>\n",
       "    </tr>\n",
       "    <tr>\n",
       "      <th>std</th>\n",
       "      <td>120.810458</td>\n",
       "      <td>0.481622</td>\n",
       "      <td>0.841838</td>\n",
       "      <td>14.181209</td>\n",
       "      <td>0.896760</td>\n",
       "      <td>0.981429</td>\n",
       "      <td>55.907576</td>\n",
       "    </tr>\n",
       "    <tr>\n",
       "      <th>min</th>\n",
       "      <td>892.000000</td>\n",
       "      <td>0.000000</td>\n",
       "      <td>1.000000</td>\n",
       "      <td>0.170000</td>\n",
       "      <td>0.000000</td>\n",
       "      <td>0.000000</td>\n",
       "      <td>0.000000</td>\n",
       "    </tr>\n",
       "    <tr>\n",
       "      <th>25%</th>\n",
       "      <td>996.250000</td>\n",
       "      <td>0.000000</td>\n",
       "      <td>1.000000</td>\n",
       "      <td>21.000000</td>\n",
       "      <td>0.000000</td>\n",
       "      <td>0.000000</td>\n",
       "      <td>7.895800</td>\n",
       "    </tr>\n",
       "    <tr>\n",
       "      <th>50%</th>\n",
       "      <td>1100.500000</td>\n",
       "      <td>0.000000</td>\n",
       "      <td>3.000000</td>\n",
       "      <td>27.000000</td>\n",
       "      <td>0.000000</td>\n",
       "      <td>0.000000</td>\n",
       "      <td>14.454200</td>\n",
       "    </tr>\n",
       "    <tr>\n",
       "      <th>75%</th>\n",
       "      <td>1204.750000</td>\n",
       "      <td>1.000000</td>\n",
       "      <td>3.000000</td>\n",
       "      <td>39.000000</td>\n",
       "      <td>1.000000</td>\n",
       "      <td>0.000000</td>\n",
       "      <td>31.500000</td>\n",
       "    </tr>\n",
       "    <tr>\n",
       "      <th>max</th>\n",
       "      <td>1309.000000</td>\n",
       "      <td>1.000000</td>\n",
       "      <td>3.000000</td>\n",
       "      <td>76.000000</td>\n",
       "      <td>8.000000</td>\n",
       "      <td>9.000000</td>\n",
       "      <td>512.329200</td>\n",
       "    </tr>\n",
       "  </tbody>\n",
       "</table>\n",
       "</div>"
      ],
      "text/plain": [
       "       PassengerId    Survived      Pclass         Age       SibSp  \\\n",
       "count   418.000000  418.000000  418.000000  332.000000  418.000000   \n",
       "mean   1100.500000    0.363636    2.265550   30.272590    0.447368   \n",
       "std     120.810458    0.481622    0.841838   14.181209    0.896760   \n",
       "min     892.000000    0.000000    1.000000    0.170000    0.000000   \n",
       "25%     996.250000    0.000000    1.000000   21.000000    0.000000   \n",
       "50%    1100.500000    0.000000    3.000000   27.000000    0.000000   \n",
       "75%    1204.750000    1.000000    3.000000   39.000000    1.000000   \n",
       "max    1309.000000    1.000000    3.000000   76.000000    8.000000   \n",
       "\n",
       "            Parch        Fare  \n",
       "count  418.000000  417.000000  \n",
       "mean     0.392344   35.627188  \n",
       "std      0.981429   55.907576  \n",
       "min      0.000000    0.000000  \n",
       "25%      0.000000    7.895800  \n",
       "50%      0.000000   14.454200  \n",
       "75%      0.000000   31.500000  \n",
       "max      9.000000  512.329200  "
      ]
     },
     "execution_count": 34,
     "metadata": {},
     "output_type": "execute_result"
    }
   ],
   "source": [
    "train.describe()\n"
   ]
  },
  {
   "cell_type": "code",
   "execution_count": 6,
   "metadata": {
    "colab": {},
    "colab_type": "code",
    "id": "421A11AZ3Hw4"
   },
   "outputs": [],
   "source": [
    "def bar_plot(variable):\n",
    "    var =  train[variable]\n",
    "    vari = var.value_counts()\n",
    "    \n",
    "    plt.figure(figsize=(9,3))\n",
    "    plt.bar(vari.index,vari)\n",
    "    plt.xticks(vari.index,vari.index.values)\n",
    "    plt.ylabel(\"frequency\")\n",
    "    plt.title(variable)\n",
    "    plt.show()\n",
    "    print(\"{}: \\n {}\".format(variable,vari))"
   ]
  },
  {
   "cell_type": "code",
   "execution_count": 7,
   "metadata": {
    "colab": {
     "base_uri": "https://localhost:8080/",
     "height": 1000
    },
    "colab_type": "code",
    "id": "wc8JOpv43MAi",
    "outputId": "4b7c2618-a637-4b08-e55d-b5e65e616ea9"
   },
   "outputs": [
    {
     "data": {
      "image/png": "[encoded data removed]",
      "text/plain": [
       "<Figure size 648x216 with 1 Axes>"
      ]
     },
     "metadata": {
      "needs_background": "light"
     },
     "output_type": "display_data"
    },
    {
     "name": "stdout",
     "output_type": "stream",
     "text": [
      "Survived: \n",
      " 0    266\n",
      "1    152\n",
      "Name: Survived, dtype: int64\n"
     ]
    },
    {
     "data": {
      "image/png": "[encoded data removed]",
      "text/plain": [
       "<Figure size 648x216 with 1 Axes>"
      ]
     },
     "metadata": {
      "needs_background": "light"
     },
     "output_type": "display_data"
    },
    {
     "name": "stdout",
     "output_type": "stream",
     "text": [
      "Sex: \n",
      " male      266\n",
      "female    152\n",
      "Name: Sex, dtype: int64\n"
     ]
    },
    {
     "data": {
      "image/png": "[encoded data removed]",
      "text/plain": [
       "<Figure size 648x216 with 1 Axes>"
      ]
     },
     "metadata": {
      "needs_background": "light"
     },
     "output_type": "display_data"
    },
    {
     "name": "stdout",
     "output_type": "stream",
     "text": [
      "Pclass: \n",
      " 3    218\n",
      "1    107\n",
      "2     93\n",
      "Name: Pclass, dtype: int64\n"
     ]
    },
    {
     "data": {
      "image/png": "[encoded data removed]",
      "text/plain": [
       "<Figure size 648x216 with 1 Axes>"
      ]
     },
     "metadata": {
      "needs_background": "light"
     },
     "output_type": "display_data"
    },
    {
     "name": "stdout",
     "output_type": "stream",
     "text": [
      "Embarked: \n",
      " S    270\n",
      "C    102\n",
      "Q     46\n",
      "Name: Embarked, dtype: int64\n"
     ]
    },
    {
     "data": {
      "image/png": "[encoded data removed]",
      "text/plain": [
       "<Figure size 648x216 with 1 Axes>"
      ]
     },
     "metadata": {
      "needs_background": "light"
     },
     "output_type": "display_data"
    },
    {
     "name": "stdout",
     "output_type": "stream",
     "text": [
      "SibSp: \n",
      " 0    283\n",
      "1    110\n",
      "2     14\n",
      "4      4\n",
      "3      4\n",
      "8      2\n",
      "5      1\n",
      "Name: SibSp, dtype: int64\n"
     ]
    },
    {
     "data": {
      "image/png": "[encoded data removed]",
      "text/plain": [
       "<Figure size 648x216 with 1 Axes>"
      ]
     },
     "metadata": {
      "needs_background": "light"
     },
     "output_type": "display_data"
    },
    {
     "name": "stdout",
     "output_type": "stream",
     "text": [
      "Parch: \n",
      " 0    324\n",
      "1     52\n",
      "2     33\n",
      "3      3\n",
      "9      2\n",
      "4      2\n",
      "6      1\n",
      "5      1\n",
      "Name: Parch, dtype: int64\n"
     ]
    }
   ],
   "source": [
    "# data structure of index\n",
    "column1 = [\"Survived\",\"Sex\",\"Pclass\",\"Embarked\",\"SibSp\",\"Parch\"]\n",
    "for c in column1:\n",
    "    bar_plot(c)"
   ]
  },
  {
   "cell_type": "code",
   "execution_count": 8,
   "metadata": {
    "colab": {
     "base_uri": "https://localhost:8080/",
     "height": 144
    },
    "colab_type": "code",
    "id": "lZhd7NGc3TeZ",
    "outputId": "9215adac-76f2-4e66-a4ab-ba52e6ad47af"
   },
   "outputs": [
    {
     "data": {
      "text/html": [
       "<style  type=\"text/css\" >\n",
       "    #T_48f4363e_e0ee_11ea_8a8a_680715a27154row0_col0 {\n",
       "            background-color:  #ffff66;\n",
       "            color:  #000000;\n",
       "        }    #T_48f4363e_e0ee_11ea_8a8a_680715a27154row0_col1 {\n",
       "            background-color:  #d6eb66;\n",
       "            color:  #000000;\n",
       "        }    #T_48f4363e_e0ee_11ea_8a8a_680715a27154row0_col2 {\n",
       "            background-color:  #f4fa66;\n",
       "            color:  #000000;\n",
       "        }    #T_48f4363e_e0ee_11ea_8a8a_680715a27154row1_col0 {\n",
       "            background-color:  #f8fc66;\n",
       "            color:  #000000;\n",
       "        }    #T_48f4363e_e0ee_11ea_8a8a_680715a27154row1_col1 {\n",
       "            background-color:  #ffff66;\n",
       "            color:  #000000;\n",
       "        }    #T_48f4363e_e0ee_11ea_8a8a_680715a27154row1_col2 {\n",
       "            background-color:  #ffff66;\n",
       "            color:  #000000;\n",
       "        }    #T_48f4363e_e0ee_11ea_8a8a_680715a27154row2_col0 {\n",
       "            background-color:  #92c866;\n",
       "            color:  #000000;\n",
       "        }    #T_48f4363e_e0ee_11ea_8a8a_680715a27154row2_col1 {\n",
       "            background-color:  #a7d366;\n",
       "            color:  #000000;\n",
       "        }    #T_48f4363e_e0ee_11ea_8a8a_680715a27154row2_col2 {\n",
       "            background-color:  #9dce66;\n",
       "            color:  #000000;\n",
       "        }    #T_48f4363e_e0ee_11ea_8a8a_680715a27154row3_col0 {\n",
       "            background-color:  #008066;\n",
       "            color:  #f1f1f1;\n",
       "        }    #T_48f4363e_e0ee_11ea_8a8a_680715a27154row3_col1 {\n",
       "            background-color:  #008066;\n",
       "            color:  #f1f1f1;\n",
       "        }    #T_48f4363e_e0ee_11ea_8a8a_680715a27154row3_col2 {\n",
       "            background-color:  #008066;\n",
       "            color:  #f1f1f1;\n",
       "        }</style><table id=\"T_48f4363e_e0ee_11ea_8a8a_680715a27154\" ><thead>    <tr>        <th class=\"index_name level0\" >Survived</th>        <th class=\"col_heading level0 col0\" >0</th>        <th class=\"col_heading level0 col1\" >1</th>        <th class=\"col_heading level0 col2\" >All</th>    </tr>    <tr>        <th class=\"index_name level0\" >Pclass</th>        <th class=\"blank\" ></th>        <th class=\"blank\" ></th>        <th class=\"blank\" ></th>    </tr></thead><tbody>\n",
       "                <tr>\n",
       "                        <th id=\"T_48f4363e_e0ee_11ea_8a8a_680715a27154level0_row0\" class=\"row_heading level0 row0\" >1</th>\n",
       "                        <td id=\"T_48f4363e_e0ee_11ea_8a8a_680715a27154row0_col0\" class=\"data row0 col0\" >57</td>\n",
       "                        <td id=\"T_48f4363e_e0ee_11ea_8a8a_680715a27154row0_col1\" class=\"data row0 col1\" >50</td>\n",
       "                        <td id=\"T_48f4363e_e0ee_11ea_8a8a_680715a27154row0_col2\" class=\"data row0 col2\" >107</td>\n",
       "            </tr>\n",
       "            <tr>\n",
       "                        <th id=\"T_48f4363e_e0ee_11ea_8a8a_680715a27154level0_row1\" class=\"row_heading level0 row1\" >2</th>\n",
       "                        <td id=\"T_48f4363e_e0ee_11ea_8a8a_680715a27154row1_col0\" class=\"data row1 col0\" >63</td>\n",
       "                        <td id=\"T_48f4363e_e0ee_11ea_8a8a_680715a27154row1_col1\" class=\"data row1 col1\" >30</td>\n",
       "                        <td id=\"T_48f4363e_e0ee_11ea_8a8a_680715a27154row1_col2\" class=\"data row1 col2\" >93</td>\n",
       "            </tr>\n",
       "            <tr>\n",
       "                        <th id=\"T_48f4363e_e0ee_11ea_8a8a_680715a27154level0_row2\" class=\"row_heading level0 row2\" >3</th>\n",
       "                        <td id=\"T_48f4363e_e0ee_11ea_8a8a_680715a27154row2_col0\" class=\"data row2 col0\" >146</td>\n",
       "                        <td id=\"T_48f4363e_e0ee_11ea_8a8a_680715a27154row2_col1\" class=\"data row2 col1\" >72</td>\n",
       "                        <td id=\"T_48f4363e_e0ee_11ea_8a8a_680715a27154row2_col2\" class=\"data row2 col2\" >218</td>\n",
       "            </tr>\n",
       "            <tr>\n",
       "                        <th id=\"T_48f4363e_e0ee_11ea_8a8a_680715a27154level0_row3\" class=\"row_heading level0 row3\" >All</th>\n",
       "                        <td id=\"T_48f4363e_e0ee_11ea_8a8a_680715a27154row3_col0\" class=\"data row3 col0\" >266</td>\n",
       "                        <td id=\"T_48f4363e_e0ee_11ea_8a8a_680715a27154row3_col1\" class=\"data row3 col1\" >152</td>\n",
       "                        <td id=\"T_48f4363e_e0ee_11ea_8a8a_680715a27154row3_col2\" class=\"data row3 col2\" >418</td>\n",
       "            </tr>\n",
       "    </tbody></table>"
      ],
      "text/plain": [
       "<pandas.io.formats.style.Styler at 0x2c046927d68>"
      ]
     },
     "execution_count": 8,
     "metadata": {},
     "output_type": "execute_result"
    }
   ],
   "source": [
    "# Crosstab of surival people from Pclass\n",
    "pd.crosstab(train.Pclass, train.Survived, margins=True).style.background_gradient(cmap='summer_r')"
   ]
  },
  {
   "cell_type": "code",
   "execution_count": 9,
   "metadata": {
    "colab": {},
    "colab_type": "code",
    "id": "TOmoI3nL3oka"
   },
   "outputs": [],
   "source": [
    "# Data preparing for machine learning\n",
    "df = pd.concat((train, test))\n",
    "dataset1 = df.drop(df.columns[[0, 3, 8,10]], axis=1)\n",
    "dataset2 = pd.get_dummies(dataset1, columns=['Sex'])\n",
    "dataset = pd.get_dummies(dataset2, columns=['Embarked'])\n",
    "X = dataset.iloc[:, 1:12].values\n",
    "y = dataset.iloc[:, 0].values"
   ]
  },
  {
   "cell_type": "code",
   "execution_count": 10,
   "metadata": {
    "colab": {},
    "colab_type": "code",
    "id": "mZSY0tWs4cGw"
   },
   "outputs": [],
   "source": [
    "#missing DATA\n",
    "from sklearn.impute import SimpleImputer\n",
    "imputer = SimpleImputer(missing_values=np.nan, strategy='mean')\n",
    "imputer = imputer.fit(X[:, 1:12])\n",
    "X[:, 1:12] = imputer.transform(X[:, 1:12])"
   ]
  },
  {
   "cell_type": "code",
   "execution_count": 11,
   "metadata": {
    "colab": {},
    "colab_type": "code",
    "id": "qPs-2Q_o4DV5"
   },
   "outputs": [],
   "source": [
    "X1=df['PassengerId']"
   ]
  },
  {
   "cell_type": "code",
   "execution_count": 12,
   "metadata": {
    "colab": {},
    "colab_type": "code",
    "id": "OeNp2PLI4Lug"
   },
   "outputs": [],
   "source": [
    "#split data into train set and test set\n",
    "from sklearn.model_selection import train_test_split\n",
    "X_train, X_test, y_train, y_test = train_test_split(X, y, test_size = 1/3,random_state = 0)"
   ]
  },
  {
   "cell_type": "code",
   "execution_count": 13,
   "metadata": {
    "colab": {
     "base_uri": "https://localhost:8080/",
     "height": 35
    },
    "colab_type": "code",
    "id": "26xO-1B74Viw",
    "outputId": "1b3ef752-27cf-4ed9-aad5-65569ed944ba"
   },
   "outputs": [
    {
     "data": {
      "text/plain": [
       "LinearRegression(copy_X=True, fit_intercept=True, n_jobs=None, normalize=False)"
      ]
     },
     "execution_count": 13,
     "metadata": {},
     "output_type": "execute_result"
    }
   ],
   "source": [
    "#Simple linear model\n",
    "from sklearn.linear_model import LinearRegression\n",
    "classifier = LinearRegression()\n",
    "classifier.fit(X_train, y_train)"
   ]
  },
  {
   "cell_type": "code",
   "execution_count": 16,
   "metadata": {
    "colab": {},
    "colab_type": "code",
    "id": "11v_AX-S4uRE"
   },
   "outputs": [
    {
     "data": {
      "text/plain": [
       "(437,)"
      ]
     },
     "execution_count": 16,
     "metadata": {},
     "output_type": "execute_result"
    }
   ],
   "source": [
    "y_pred = classifier.predict(X_test)\n",
    "y_pred.shape"
   ]
  },
  {
   "cell_type": "code",
   "execution_count": 22,
   "metadata": {},
   "outputs": [
    {
     "data": {
      "text/plain": [
       "array([ 1.00127480e-01,  1.13417954e-01,  8.31682333e-01,  1.65428282e-01,\n",
       "        7.97046146e-02, -3.10901600e-02,  1.51600007e-01,  1.00506129e+00,\n",
       "        7.32891054e-01,  8.47022552e-01,  7.58921581e-01,  1.24189253e-01,\n",
       "        9.35066757e-01,  9.88145634e-01,  1.18768639e-01,  6.41848604e-01,\n",
       "        7.04637354e-01,  1.46106205e-01,  8.83270552e-01,  2.69392240e-01,\n",
       "        2.88972173e-01,  2.42093092e-01,  9.37572456e-01,  1.04760549e-01,\n",
       "        1.37971319e-01,  1.37971319e-01,  6.24321082e-01,  8.90962056e-01,\n",
       "        1.32365310e-01,  1.85175796e-01,  9.89936888e-01,  7.33789348e-01,\n",
       "        8.44485658e-01,  8.63091555e-01,  1.72246038e-01,  9.41144990e-01,\n",
       "        7.37393778e-01,  8.21327957e-01,  3.23113273e-01,  2.19253948e-01,\n",
       "        1.07994991e-01,  8.69869632e-01,  2.28323652e-01,  1.18279141e-01,\n",
       "        1.87296685e-01,  1.79907303e-01,  6.87015328e-01,  1.01078139e+00,\n",
       "        2.25950762e-01, -2.50984835e-02,  6.51712073e-01,  9.63350325e-02,\n",
       "        6.58814448e-02,  1.19495894e-01,  2.30922373e-01,  1.13378347e-01,\n",
       "        2.08121065e-01,  7.63169748e-01,  1.06707781e+00,  3.13651060e-01,\n",
       "        1.37971319e-01,  9.20152123e-02,  1.37971319e-01,  8.17322135e-02,\n",
       "        2.54246976e-01,  3.42680868e-01,  3.85782863e-02,  1.37523778e-01,\n",
       "        8.99717671e-04,  1.65428282e-01,  1.36864661e-01,  1.40241309e-01,\n",
       "       -8.37411986e-02,  1.57246387e-01,  1.07676515e-01,  7.20403872e-01,\n",
       "        8.11251081e-01,  1.38043597e-01,  1.34429942e-01,  5.09209294e-02,\n",
       "        7.39263806e-01,  7.80985753e-01,  8.92118533e-01,  1.37971319e-01,\n",
       "        9.50893943e-02,  6.63383286e-02,  6.01062074e-01,  9.83201871e-01,\n",
       "        2.06884778e-01,  7.23585024e-01,  9.42595968e-02,  9.15257140e-02,\n",
       "        7.68442530e-02,  9.87537467e-01,  5.95670412e-03,  2.00043676e-01,\n",
       "       -5.12227972e-03,  5.95648453e-01,  7.59960624e-01,  6.40953875e-02,\n",
       "        9.87909573e-01,  9.94358733e-01,  2.29523807e-01,  1.95389436e-01,\n",
       "        1.82766204e-01,  1.73914998e-01,  6.12872694e-01,  7.81396906e-01,\n",
       "        7.68442530e-02,  6.54082818e-02,  7.45166980e-01,  2.94210157e-01,\n",
       "        9.72819837e-02,  3.62650261e-02,  1.01457618e+00,  9.70918480e-01,\n",
       "        3.58517434e-01,  1.81367638e-01,  7.49175339e-01,  1.52583953e-01,\n",
       "        9.30695793e-02,  2.58645709e-01,  8.34840765e-01,  2.29523807e-01,\n",
       "        1.45330949e-01,  9.53524641e-01,  1.03443838e-01,  1.65315581e-01,\n",
       "        9.89223538e-01,  6.59677084e-02,  8.60014420e-01,  1.07639717e+00,\n",
       "        7.34835888e-02,  8.66481916e-02,  8.51107548e-01,  8.66481916e-02,\n",
       "        3.00912849e-02,  8.03838361e-01,  7.05285566e-02,  7.65380363e-01,\n",
       "        1.99432138e-01,  1.37971319e-01,  1.05823177e-01,  6.96400085e-01,\n",
       "        5.40825176e-02,  5.27661685e-02,  7.37391485e-01,  1.03060149e+00,\n",
       "        1.36429085e-01,  1.77596724e-01,  8.11484194e-01,  9.77784749e-02,\n",
       "        7.59468207e-02,  1.47566032e-01,  1.99332519e-01,  1.35233273e-01,\n",
       "        1.61643176e-01,  9.23544595e-01,  7.19182376e-01,  7.73042688e-01,\n",
       "        8.07137499e-01,  4.02449331e-01,  8.48621343e-02,  6.66900988e-01,\n",
       "        7.33167590e-01,  9.30695793e-02, -5.55666869e-04, -1.04442371e-03,\n",
       "        8.39093831e-01,  6.44166797e-01, -1.17457946e-02,  1.07147222e+00,\n",
       "        8.57881352e-01,  2.01934400e-01,  8.31127924e-01,  1.30184175e-01,\n",
       "        9.42572472e-02,  2.53988555e-01,  8.11339694e-01,  1.33751393e-01,\n",
       "        9.22593749e-02,  7.33631410e-01,  1.71884740e-01,  6.59677084e-02,\n",
       "        1.58810344e-01,  1.01769268e+00,  6.98373999e-02,  8.11267416e-01,\n",
       "        6.59677084e-02,  1.29386096e-01,  7.05728632e-02,  1.03765252e-01,\n",
       "        1.97419694e-01,  1.29882587e-01,  2.99623137e-01,  5.24188527e-02,\n",
       "        1.72700828e-01,  3.73918013e-01,  7.55337579e-01,  3.39311782e-02,\n",
       "        7.46289261e-01,  2.90889730e-01,  8.55866502e-01,  1.18999668e-01,\n",
       "        6.57019808e-02,  1.85482151e-01,  1.47684865e-01,  6.58814448e-02,\n",
       "        9.42572472e-02,  8.17264186e-02,  1.68097773e-01,  8.65806129e-02,\n",
       "       -1.66861039e-02,  7.39263806e-01,  4.98162685e-02,  1.05097276e-01,\n",
       "        1.50481998e-01, -4.08346941e-02, -9.02857053e-02,  1.03387873e+00,\n",
       "        8.11267416e-01,  7.67555694e-01,  6.59677084e-02,  1.56807576e-01,\n",
       "       -6.63312698e-02,  3.99653371e-01,  1.17991267e-01,  8.31984217e-01,\n",
       "        8.22559622e-01,  1.37961977e-01,  8.70716670e-01,  2.95608133e-01,\n",
       "        1.03114452e+00, -4.33611503e-02,  2.58289678e-01,  4.91933936e-02,\n",
       "        2.01752646e-01,  9.94574223e-01,  6.77548271e-01,  7.59921017e-01,\n",
       "        9.37495535e-01,  1.21492364e-01,  9.75999298e-01,  2.87242165e-02,\n",
       "        7.74885606e-01,  1.39960721e-01,  2.71244810e-01,  8.52544027e-01,\n",
       "        3.03868453e-01,  8.11260424e-01,  8.34659560e-01,  1.02676976e-01,\n",
       "        7.08617444e-01,  1.26633953e-01,  6.81471275e-01,  4.02434179e-01,\n",
       "        1.18768639e-01,  6.58814448e-02,  7.30034701e-01,  7.26960825e-01,\n",
       "        9.86169538e-01,  1.23908665e-01,  1.12808911e+00,  8.56986214e-01,\n",
       "        8.74280220e-01,  1.67328026e-01,  8.85531675e-01,  6.98706552e-01,\n",
       "        8.11288395e-01,  9.20223599e-01,  1.35233273e-01,  1.93467575e-01,\n",
       "        7.83733718e-02,  6.55201671e-02,  2.37895178e-01,  7.81611330e-01,\n",
       "        8.11267416e-01,  4.91701215e-02,  1.03034039e+00,  6.72430885e-02,\n",
       "        8.42735534e-01,  8.11267416e-01,  6.58814448e-02,  6.58814448e-02,\n",
       "        3.80608167e-02,  2.98482425e-01,  2.45575863e-01,  1.06563085e+00,\n",
       "        9.77641825e-01,  4.37392471e-01,  6.60026726e-02,  9.81382866e-02,\n",
       "        4.53359191e-01,  5.45208069e-02,  8.91047895e-01,  1.69602124e-01,\n",
       "        8.49225375e-01, -2.28386647e-02,  8.97407774e-01,  1.29679795e-01,\n",
       "        1.08137197e-01,  1.72763525e-01,  7.42433369e-01,  6.59677084e-02,\n",
       "        3.14758277e-01,  2.86734466e-01,  1.38367472e-01,  8.64664943e-01,\n",
       "       -6.69365810e-03,  2.51414003e-01,  1.90385205e-01,  8.80245250e-01,\n",
       "        8.11258074e-01,  8.24129242e-01,  9.44644110e-02,  6.53317135e-02,\n",
       "        1.65428282e-01,  6.64784905e-02,  2.83937333e-01,  8.65806129e-02,\n",
       "        1.38015626e-01,  1.34804360e-01,  8.11267416e-01,  9.94366333e-01,\n",
       "        6.58814448e-02,  1.00756587e+00,  2.36273059e-01, -5.85487854e-02,\n",
       "        1.06342615e+00,  7.67863055e-01,  1.81638315e-01,  1.07856608e-01,\n",
       "        4.24223858e-01,  1.71056163e-02,  1.31975296e-01,  3.88431030e-01,\n",
       "        3.55871228e-01, -2.02720010e-01,  1.36426736e-01,  1.03742119e+00,\n",
       "        8.71903219e-01,  6.57130375e-01,  7.37391485e-01,  8.19691114e-01,\n",
       "        8.47181939e-01,  2.86175039e-01,  3.56483726e-01,  1.37971319e-01,\n",
       "        1.37971319e-01,  7.93392500e-01,  9.42150803e-01,  8.46594541e-01,\n",
       "        1.71056163e-02,  8.13256818e-01,  2.17119218e-01,  8.60245490e-01,\n",
       "        7.79444594e-02,  9.02951855e-01,  2.09519631e-01,  9.17168742e-01,\n",
       "        2.40133340e-01,  1.97419694e-01,  1.23728571e-01,  6.58814448e-02,\n",
       "        7.86323298e-01,  7.74084379e-01,  7.06124706e-02,  1.02137498e+00,\n",
       "        9.20240180e-01,  1.50662092e-01,  4.71722722e-01,  2.19668034e-02,\n",
       "        1.37971319e-01,  8.34840765e-01, -7.76476439e-02,  2.24399665e-02,\n",
       "        9.37264129e-02,  1.96826735e-01,  1.63858421e-01,  9.10722383e-01,\n",
       "        8.56760994e-01,  1.60644009e-01,  6.56879951e-02,  7.54250338e-01,\n",
       "        8.02682194e-01,  3.19971149e-01,  3.59145559e-02, -4.16819951e-02,\n",
       "        8.51965368e-01,  8.65806129e-02,  1.92108922e-01,  2.82433003e-01,\n",
       "        8.11267416e-01,  3.05806611e-01,  1.21625789e-01,  1.03211687e+00,\n",
       "        1.29372111e-01,  8.63362200e-01,  1.36426736e-01,  8.49708701e-01,\n",
       "        1.62782979e-01,  3.40387695e-02,  1.13378347e-01,  1.03134955e-01,\n",
       "        6.34796876e-01,  7.11612376e-02,  2.54805259e-01,  8.56438142e-01,\n",
       "        2.09167653e-01,  7.47269167e-01,  6.92377184e-01,  1.00176006e+00,\n",
       "        9.74396498e-01,  3.21723389e-03,  1.55607193e-01,  9.12009693e-01,\n",
       "        2.86454753e-01,  2.80307789e-01,  3.45427139e-01,  9.87080599e-01,\n",
       "        1.00562010e+00,  1.64303090e-01,  1.42334180e-01,  8.99821984e-01,\n",
       "        1.13830531e-01,  1.98818261e-01,  1.43102835e-01,  6.59677084e-02,\n",
       "        6.84228987e-01,  7.92477314e-01, -9.57788253e-03,  9.30695793e-02,\n",
       "        1.80047729e-02, -1.44669694e-03,  5.94347118e-02, -1.34003238e-02,\n",
       "        7.05844992e-02])"
      ]
     },
     "execution_count": 22,
     "metadata": {},
     "output_type": "execute_result"
    }
   ],
   "source": [
    "y_pred"
   ]
  },
  {
   "cell_type": "code",
   "execution_count": 20,
   "metadata": {},
   "outputs": [],
   "source": [
    "m = y_pred.shape\n",
    "p = np.zeros(m, dtype = np.int)\n",
    "for i in range(len(y_pred)):\n",
    "        if y_pred[i] > 0.5:\n",
    "            p[i] = 1\n",
    "        else:\n",
    "            p[i] = 0"
   ]
  },
  {
   "cell_type": "code",
   "execution_count": 21,
   "metadata": {},
   "outputs": [
    {
     "name": "stdout",
     "output_type": "stream",
     "text": [
      "Accuracy: 0.8466819221967964\n"
     ]
    }
   ],
   "source": [
    "print(\"Accuracy: \"  + str(np.mean((p[:] == y_test[:]))))"
   ]
  },
  {
   "cell_type": "code",
   "execution_count": 23,
   "metadata": {
    "colab": {
     "base_uri": "https://localhost:8080/",
     "height": 295
    },
    "colab_type": "code",
    "id": "hvvttpG35BNQ",
    "outputId": "8ce064fc-04af-432e-fb40-9639588f1de7"
   },
   "outputs": [
    {
     "data": {
      "image/png": "[encoded data removed]",
      "text/plain": [
       "<Figure size 432x288 with 1 Axes>"
      ]
     },
     "metadata": {
      "needs_background": "light"
     },
     "output_type": "display_data"
    }
   ],
   "source": [
    "#graph\n",
    "plt.scatter(X1,y, color = 'red')\n",
    "plt.scatter(X1, classifier.predict(X), color = 'blue')\n",
    "plt.title('Truth or Bluff (DTR)')\n",
    "plt.xlabel('Position level')\n",
    "plt.ylabel('Salary')\n",
    "plt.show()\n"
   ]
  },
  {
   "cell_type": "code",
   "execution_count": 25,
   "metadata": {},
   "outputs": [
    {
     "name": "stderr",
     "output_type": "stream",
     "text": [
      "D:\\anaconda\\lib\\site-packages\\sklearn\\linear_model\\logistic.py:432: FutureWarning: Default solver will be changed to 'lbfgs' in 0.22. Specify a solver to silence this warning.\n",
      "  FutureWarning)\n"
     ]
    }
   ],
   "source": [
    "from sklearn.linear_model import LogisticRegression\n",
    "classifier1 = LogisticRegression(random_state = 0)\n",
    "\n",
    "classifier1.fit(X_train,y_train)\n",
    "y_pred1 = classifier1.predict(X_test)"
   ]
  },
  {
   "cell_type": "code",
   "execution_count": 27,
   "metadata": {},
   "outputs": [],
   "source": [
    "m = y_pred1.shape\n",
    "p = np.zeros(m, dtype = np.int)\n",
    "for i in range(len(y_pred1)):\n",
    "        if y_pred1[i] > 0.5:\n",
    "            p[i] = 1\n",
    "        else:\n",
    "            p[i] = 0"
   ]
  },
  {
   "cell_type": "code",
   "execution_count": 28,
   "metadata": {},
   "outputs": [
    {
     "name": "stdout",
     "output_type": "stream",
     "text": [
      "Accuracy: 0.8398169336384439\n"
     ]
    }
   ],
   "source": [
    "print(\"Accuracy: \"  + str(np.mean((p[:] == y_test[:]))))"
   ]
  },
  {
   "cell_type": "code",
   "execution_count": 29,
   "metadata": {},
   "outputs": [],
   "source": [
    "from sklearn.naive_bayes import GaussianNB\n",
    "classifier2= GaussianNB()\n",
    "classifier2.fit(X_train,y_train)\n",
    "y_pred2 = classifier2.predict(X_test)\n"
   ]
  },
  {
   "cell_type": "code",
   "execution_count": 30,
   "metadata": {},
   "outputs": [],
   "source": [
    "m = y_pred2.shape\n",
    "p = np.zeros(m, dtype = np.int)\n",
    "for i in range(len(y_pred2)):\n",
    "        if y_pred2[i] > 0.5:\n",
    "            p[i] = 1\n",
    "        else:\n",
    "            p[i] = 0"
   ]
  },
  {
   "cell_type": "code",
   "execution_count": 31,
   "metadata": {},
   "outputs": [
    {
     "name": "stdout",
     "output_type": "stream",
     "text": [
      "Accuracy: 0.8260869565217391\n"
     ]
    }
   ],
   "source": [
    "print(\"Accuracy: \"  + str(np.mean((p[:] == y_test[:]))))"
   ]
  },
  {
   "cell_type": "code",
   "execution_count": null,
   "metadata": {},
   "outputs": [],
   "source": []
  }
 ],
 "metadata": {
  "colab": {
   "name": "Untitled0.ipynb",
   "provenance": []
  },
  "kernelspec": {
   "display_name": "Python 3",
   "language": "python",
   "name": "python3"
  },
  "language_info": {
   "codemirror_mode": {
    "name": "ipython",
    "version": 3
   },
   "file_extension": ".py",
   "mimetype": "text/x-python",
   "name": "python",
   "nbconvert_exporter": "python",
   "pygments_lexer": "ipython3",
   "version": "3.7.1"
  }
 },
 "nbformat": 4,
 "nbformat_minor": 1
}
