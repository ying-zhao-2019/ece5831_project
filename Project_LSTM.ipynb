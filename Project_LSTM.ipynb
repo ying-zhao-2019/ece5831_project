{
 "cells": [
  {
   "cell_type": "code",
   "execution_count": 1,
   "metadata": {},
   "outputs": [
    {
     "name": "stderr",
     "output_type": "stream",
     "text": [
      "Using TensorFlow backend.\n"
     ]
    }
   ],
   "source": [
    "import numpy as np\n",
    "from numpy import array\n",
    "from pandas import pandas as pd\n",
    "from keras.models import Sequential\n",
    "from keras.layers import LSTM\n",
    "from keras.layers import Dense"
   ]
  },
  {
   "cell_type": "code",
   "execution_count": 2,
   "metadata": {},
   "outputs": [],
   "source": [
    "test =  pd.read_csv('C:\\\\Users\\\\Ing\\\\Desktop\\\\project2.csv')\n",
    "train = pd.read_csv('C:\\\\Users\\\\Ing\\\\Desktop\\\\project1.csv')"
   ]
  },
  {
   "cell_type": "code",
   "execution_count": 3,
   "metadata": {},
   "outputs": [],
   "source": [
    "df = pd.concat((train, test))\n",
    "dataset1 = df.drop(df.columns[[0, 3, 8,10]], axis=1)\n",
    "dataset2 = pd.get_dummies(dataset1, columns=['Sex'])\n",
    "dataset = pd.get_dummies(dataset2, columns=['Embarked'])\n",
    "X = dataset.iloc[:, 1:12].values\n",
    "y = dataset.iloc[:, 0].values"
   ]
  },
  {
   "cell_type": "code",
   "execution_count": 4,
   "metadata": {},
   "outputs": [],
   "source": [
    "#missing DATA\n",
    "from sklearn.impute import SimpleImputer\n",
    "imputer = SimpleImputer(missing_values=np.nan, strategy='mean')\n",
    "imputer = imputer.fit(X[:, 1:12])\n",
    "X[:, 1:12] = imputer.transform(X[:, 1:12])"
   ]
  },
  {
   "cell_type": "code",
   "execution_count": 5,
   "metadata": {},
   "outputs": [],
   "source": [
    "#split data into train set and test set\n",
    "from sklearn.model_selection import train_test_split\n",
    "X_train, X_test, y_train, y_test = train_test_split(X, y, test_size = 1/3,random_state = 0)"
   ]
  },
  {
   "cell_type": "code",
   "execution_count": 6,
   "metadata": {},
   "outputs": [
    {
     "data": {
      "text/plain": [
       "array([ 0.82870399, -2.04703355,  2.31232727,  1.88691806, -0.08642879,\n",
       "       -0.72973501,  0.72973501, -0.50644264, -0.31782086,  0.64822484])"
      ]
     },
     "execution_count": 6,
     "metadata": {},
     "output_type": "execute_result"
    }
   ],
   "source": [
    "from sklearn.preprocessing import StandardScaler\n",
    "sc_X = StandardScaler()\n",
    "X_train = sc_X.fit_transform(X_train)\n",
    "X_test = sc_X.fit_transform(X_test)\n",
    "\n",
    "X_train[7]"
   ]
  },
  {
   "cell_type": "code",
   "execution_count": 7,
   "metadata": {},
   "outputs": [],
   "source": [
    "X_train= X_train.reshape(872,10,1)"
   ]
  },
  {
   "cell_type": "code",
   "execution_count": 8,
   "metadata": {},
   "outputs": [],
   "source": [
    "y_train= y_train.reshape(872,1,1)"
   ]
  },
  {
   "cell_type": "code",
   "execution_count": 9,
   "metadata": {},
   "outputs": [
    {
     "name": "stdout",
     "output_type": "stream",
     "text": [
      "Tensorflow version:  1.13.1\n",
      "Keras version:  2.3.1\n"
     ]
    }
   ],
   "source": [
    "import tensorflow as tf\n",
    "print ('Tensorflow version: ', tf.__version__)\n",
    "import os\n",
    "os.environ['TF_CPP_MIN_LOG_LEVEL'] = '2'\n",
    "import keras\n",
    "print ('Keras version: ', keras.__version__)"
   ]
  },
  {
   "cell_type": "code",
   "execution_count": 10,
   "metadata": {},
   "outputs": [],
   "source": [
    "from keras.models import load_model\n",
    "from keras.layers import Dense, Dropout, LSTM, Flatten, TimeDistributed, Input, GRU\n",
    "from keras.models import Sequential, Model\n",
    "from keras import optimizers\n",
    "from keras.regularizers import l2\n",
    "#import keras.backend as K\n",
    "import numpy as np\n",
    "import matplotlib.pyplot as plt"
   ]
  },
  {
   "cell_type": "code",
   "execution_count": 11,
   "metadata": {},
   "outputs": [],
   "source": [
    "idrop = 0\n",
    "rdrop = 0.01\n",
    "odrop = 0.01\n",
    "epochs = 100\n",
    "weight_decay = 1e-5"
   ]
  },
  {
   "cell_type": "code",
   "execution_count": 12,
   "metadata": {},
   "outputs": [
    {
     "name": "stdout",
     "output_type": "stream",
     "text": [
      "WARNING:tensorflow:From D:\\anaconda\\lib\\site-packages\\tensorflow\\python\\ops\\resource_variable_ops.py:435: colocate_with (from tensorflow.python.framework.ops) is deprecated and will be removed in a future version.\n",
      "Instructions for updating:\n",
      "Colocations handled automatically by placer.\n",
      "WARNING:tensorflow:From D:\\anaconda\\lib\\site-packages\\tensorflow\\python\\ops\\math_ops.py:3066: to_int32 (from tensorflow.python.ops.math_ops) is deprecated and will be removed in a future version.\n",
      "Instructions for updating:\n",
      "Use tf.cast instead.\n"
     ]
    }
   ],
   "source": [
    "inputs = Input(shape=(10, 1))\n",
    "output_step_ahead=1\n",
    "RNN_model = LSTM(100, return_sequences = True, activation = 'relu', kernel_regularizer = l2(weight_decay),\n",
    "                     recurrent_regularizer=l2(weight_decay),bias_regularizer=l2(weight_decay),\\\n",
    "                     dropout=idrop, recurrent_dropout=rdrop)(inputs)\n",
    "RNN_model = Dropout(odrop)(RNN_model)\n",
    "RNN_model = LSTM(100, return_sequences = True, activation = 'relu', kernel_regularizer = l2(weight_decay),\n",
    "                     recurrent_regularizer=l2(weight_decay),bias_regularizer=l2(weight_decay),\\\n",
    "                     dropout=idrop, recurrent_dropout=rdrop)(inputs)\n",
    "RNN_model = Dropout(odrop)(RNN_model)\n",
    "RNN_model = LSTM(100, return_sequences = False, activation = 'relu', kernel_regularizer = l2(weight_decay), \n",
    "                    recurrent_regularizer=l2(weight_decay), bias_regularizer=l2(weight_decay),\\\n",
    "                    dropout=idrop, recurrent_dropout=rdrop)(RNN_model)\n",
    "RNN_model = Dropout(odrop)(RNN_model)\n",
    "RNN_model = keras.layers.Reshape(target_shape = (1, 100))(RNN_model)\n",
    "RNN_model = Flatten()(RNN_model)\n",
    "## prediction\n",
    "pred_y = Dense(units = output_step_ahead, activation='linear', kernel_regularizer=l2(weight_decay),\n",
    "                            bias_regularizer=l2(weight_decay))(RNN_model)\n",
    "# Training of LSTM\n",
    "RNN_model = Model(inputs=[inputs], outputs=[pred_y])\n",
    "RNN_model.compile(loss=\"mse\", optimizer=optimizers.adam(lr=0.001))\n",
    "#LSTM training\n",
    "RNN_hist = RNN_model.fit(X_train, y_train[:,:,0], shuffle = True, \\\n",
    "                             validation_split=0.1, verbose=0, epochs = epochs, batch_size = 32)"
   ]
  },
  {
   "cell_type": "code",
   "execution_count": 13,
   "metadata": {},
   "outputs": [
    {
     "data": {
      "text/plain": [
       "(437, 1)"
      ]
     },
     "execution_count": 13,
     "metadata": {},
     "output_type": "execute_result"
    }
   ],
   "source": [
    "X_test= X_test.reshape(437,10,1)\n",
    "trainPredict1 = RNN_model.predict(X_test)\n",
    "np.shape(trainPredict1)"
   ]
  },
  {
   "cell_type": "code",
   "execution_count": 14,
   "metadata": {},
   "outputs": [
    {
     "data": {
      "text/plain": [
       "(872, 1)"
      ]
     },
     "execution_count": 14,
     "metadata": {},
     "output_type": "execute_result"
    }
   ],
   "source": [
    "\n",
    "trainPredict = RNN_model.predict(X_train)\n",
    "np.shape(trainPredict)"
   ]
  },
  {
   "cell_type": "code",
   "execution_count": 16,
   "metadata": {},
   "outputs": [],
   "source": [
    "m = trainPredict[:,0].shape\n",
    "q = np.zeros(m, dtype = np.int)\n",
    "j=0\n",
    "for i in range(len(trainPredict)):\n",
    "        if trainPredict[i] > 0.5:\n",
    "            q[i] = 1\n",
    "        else:\n",
    "            q[i] = 0"
   ]
  },
  {
   "cell_type": "code",
   "execution_count": 17,
   "metadata": {},
   "outputs": [
    {
     "name": "stdout",
     "output_type": "stream",
     "text": [
      "Accuracy: 0.5428204696574362\n"
     ]
    }
   ],
   "source": [
    "print(\"Accuracy: \"  + str(np.mean((q[:] == y_train[:]))))"
   ]
  },
  {
   "cell_type": "code",
   "execution_count": 97,
   "metadata": {},
   "outputs": [],
   "source": [
    "m = trainPredict1[:,0].shape\n",
    "p = np.zeros(m, dtype = np.int)\n",
    "j=0\n",
    "for i in range(len(trainPredict1)):\n",
    "        if trainPredict1[i] > 0.5:\n",
    "            p[i] = 1\n",
    "        else:\n",
    "            p[i] = 0"
   ]
  },
  {
   "cell_type": "code",
   "execution_count": 98,
   "metadata": {},
   "outputs": [
    {
     "name": "stdout",
     "output_type": "stream",
     "text": [
      "Accuracy: 0.8581235697940504\n"
     ]
    }
   ],
   "source": [
    "print(\"Accuracy: \"  + str(np.mean((p[:] == y_test[:]))))"
   ]
  },
  {
   "cell_type": "code",
   "execution_count": null,
   "metadata": {},
   "outputs": [],
   "source": []
  }
 ],
 "metadata": {
  "kernelspec": {
   "display_name": "Python 3",
   "language": "python",
   "name": "python3"
  },
  "language_info": {
   "codemirror_mode": {
    "name": "ipython",
    "version": 3
   },
   "file_extension": ".py",
   "mimetype": "text/x-python",
   "name": "python",
   "nbconvert_exporter": "python",
   "pygments_lexer": "ipython3",
   "version": "3.7.1"
  }
 },
 "nbformat": 4,
 "nbformat_minor": 2
}
